{
 "cells": [
  {
   "cell_type": "markdown",
   "metadata": {},
   "source": [
    "# Querying the GitHub API for repositories and organizations\n",
    "\n",
    "By Stuart Geiger and Jamie Whitacre, made at a SciPy 2016 sprint. See the rendered, interactive, embedable map [here](http://staeiou.github.io/jupyter-orgs-map.html)."
   ]
  },
  {
   "cell_type": "markdown",
   "metadata": {},
   "source": [
    "## A Warning: When logged in, you can push, delete, comment, etc. using the API\n",
    "The Github API is powerful. Almost anything you can do on Github can be done through the API. While this notebook is only taking you through the more passive functions that read data from Github, there are also many functions that let you make changes to Github. Be careful if you are trying out a new function!\n",
    "\n",
    "## Getting started with the Github API\n",
    "We are using the githubPy library, and you are going to want to log in for much higher rate limits. You can put your username and password directly into a notebook (not recommended!) or put it in a file named \"ghlogin.py\" and then import it. Make sure that your ghlogin.py file is ignored by git in your .gitignore file.\n",
    "\n",
    "### Packages\n",
    "We are using pygithub, geopy, and ipywidgets in this notebook. We are also using datetime, but that comes with python."
   ]
  },
  {
   "cell_type": "code",
   "execution_count": 1,
   "metadata": {
    "collapsed": false,
    "scrolled": true
   },
   "outputs": [
    {
     "name": "stdout",
     "output_type": "stream",
     "text": [
      "Requirement already satisfied (use --upgrade to upgrade): pygithub in /home/mam/anaconda3/lib/python3.5/site-packages\n",
      "Requirement already satisfied (use --upgrade to upgrade): geopy in /home/mam/anaconda3/lib/python3.5/site-packages\n",
      "Requirement already satisfied (use --upgrade to upgrade): ipywidgets in /home/mam/anaconda3/lib/python3.5/site-packages\n",
      "Requirement already satisfied (use --upgrade to upgrade): widgetsnbextension>=1.2.6 in /home/mam/anaconda3/lib/python3.5/site-packages (from ipywidgets)\n",
      "Requirement already satisfied (use --upgrade to upgrade): ipykernel>=4.2.2 in /home/mam/anaconda3/lib/python3.5/site-packages (from ipywidgets)\n",
      "Requirement already satisfied (use --upgrade to upgrade): traitlets>=4.2.1 in /home/mam/anaconda3/lib/python3.5/site-packages (from ipywidgets)\n",
      "Requirement already satisfied (use --upgrade to upgrade): ipython>=4.0.0 in /home/mam/anaconda3/lib/python3.5/site-packages (from ipywidgets)\n",
      "Requirement already satisfied (use --upgrade to upgrade): notebook>=4.2.0 in /home/mam/notebook (from widgetsnbextension>=1.2.6->ipywidgets)\n",
      "Requirement already satisfied (use --upgrade to upgrade): jinja2 in /home/mam/anaconda3/lib/python3.5/site-packages (from notebook>=4.2.0->widgetsnbextension>=1.2.6->ipywidgets)\n",
      "Requirement already satisfied (use --upgrade to upgrade): tornado>=4 in /home/mam/anaconda3/lib/python3.5/site-packages (from notebook>=4.2.0->widgetsnbextension>=1.2.6->ipywidgets)\n",
      "Requirement already satisfied (use --upgrade to upgrade): ipython_genutils in /home/mam/anaconda3/lib/python3.5/site-packages (from notebook>=4.2.0->widgetsnbextension>=1.2.6->ipywidgets)\n",
      "Requirement already satisfied (use --upgrade to upgrade): jupyter_core in /home/mam/anaconda3/lib/python3.5/site-packages (from notebook>=4.2.0->widgetsnbextension>=1.2.6->ipywidgets)\n",
      "Requirement already satisfied (use --upgrade to upgrade): jupyter_client in /home/mam/anaconda3/lib/python3.5/site-packages (from notebook>=4.2.0->widgetsnbextension>=1.2.6->ipywidgets)\n",
      "Requirement already satisfied (use --upgrade to upgrade): nbformat in /home/mam/anaconda3/lib/python3.5/site-packages (from notebook>=4.2.0->widgetsnbextension>=1.2.6->ipywidgets)\n",
      "Requirement already satisfied (use --upgrade to upgrade): nbconvert in /home/mam/anaconda3/lib/python3.5/site-packages (from notebook>=4.2.0->widgetsnbextension>=1.2.6->ipywidgets)\n",
      "Requirement already satisfied (use --upgrade to upgrade): terminado>=0.3.3 in /home/mam/anaconda3/lib/python3.5/site-packages (from notebook>=4.2.0->widgetsnbextension>=1.2.6->ipywidgets)\n",
      "Requirement already satisfied (use --upgrade to upgrade): MarkupSafe in /home/mam/anaconda3/lib/python3.5/site-packages (from jinja2->notebook>=4.2.0->widgetsnbextension>=1.2.6->ipywidgets)\n"
     ]
    }
   ],
   "source": [
    "!pip install pygithub\n",
    "!pip install geopy\n",
    "!pip install ipywidgets"
   ]
  },
  {
   "cell_type": "code",
   "execution_count": 2,
   "metadata": {
    "collapsed": false,
    "scrolled": false
   },
   "outputs": [],
   "source": [
    "from github import Github"
   ]
  },
  {
   "cell_type": "code",
   "execution_count": 3,
   "metadata": {
    "collapsed": false,
    "scrolled": false
   },
   "outputs": [],
   "source": [
    "#this is my private login credentials, stored in ghlogin.py\n",
    "import ghlogin\n"
   ]
  },
  {
   "cell_type": "code",
   "execution_count": 4,
   "metadata": {
    "collapsed": false,
    "scrolled": false
   },
   "outputs": [],
   "source": [
    "g = Github(login_or_token=ghlogin.gh_user, password=ghlogin.gh_passwd)"
   ]
  },
  {
   "cell_type": "markdown",
   "metadata": {
    "collapsed": false
   },
   "source": [
    "With this Github object, you can retreive all kinds of Github objects, which you can then futher explore.\n",
    "\n",
    "### Exploring methods and properties of objects.\n",
    "\n",
    "A quick lightning tutorial inside this tutorial: there are many ways to explore the properties and methods of various objects. This is very useful when exploring a new method.\n",
    "\n",
    "One way is to use tab completion, which is supported in Jupyter notebooks. Once you have executed code storing an object to a variable, type the variable name, then a dot, then hit tab to explore. If you don't have this, you can also use an extended version of the dir function. This vdir() function shows the methods and properties of an object, excluding those that begin with underscores (which are ones you will likely not use in this tutorial)."
   ]
  },
  {
   "cell_type": "code",
   "execution_count": null,
   "metadata": {
    "collapsed": false,
    "scrolled": false
   },
   "outputs": [],
   "source": []
  },
  {
   "cell_type": "code",
   "execution_count": 43,
   "metadata": {
    "collapsed": true,
    "scrolled": false
   },
   "outputs": [],
   "source": [
    "def vdir(obj):\n",
    "    return [x for x in dir(obj) if not x.startswith('_')]"
   ]
  },
  {
   "cell_type": "code",
   "execution_count": 44,
   "metadata": {
    "collapsed": false,
    "scrolled": true
   },
   "outputs": [
    {
     "data": {
      "text/plain": [
       "['FIX_REPO_GET_GIT_REF',\n",
       " 'create_from_raw_data',\n",
       " 'dump',\n",
       " 'get_api_status',\n",
       " 'get_api_status_messages',\n",
       " 'get_emojis',\n",
       " 'get_gist',\n",
       " 'get_gists',\n",
       " 'get_gitignore_template',\n",
       " 'get_gitignore_templates',\n",
       " 'get_hook',\n",
       " 'get_hooks',\n",
       " 'get_last_api_status_message',\n",
       " 'get_organization',\n",
       " 'get_rate_limit',\n",
       " 'get_repo',\n",
       " 'get_repos',\n",
       " 'get_user',\n",
       " 'get_users',\n",
       " 'legacy_search_repos',\n",
       " 'legacy_search_user_by_email',\n",
       " 'legacy_search_users',\n",
       " 'load',\n",
       " 'oauth_scopes',\n",
       " 'per_page',\n",
       " 'rate_limiting',\n",
       " 'rate_limiting_resettime',\n",
       " 'render_markdown',\n",
       " 'search_code',\n",
       " 'search_issues',\n",
       " 'search_repositories',\n",
       " 'search_users']"
      ]
     },
     "execution_count": 44,
     "metadata": {},
     "output_type": "execute_result"
    }
   ],
   "source": [
    "vdir(g)"
   ]
  },
  {
   "cell_type": "markdown",
   "metadata": {},
   "source": [
    "## Users\n",
    "To get a user object, call the get_user() function of the main Github object."
   ]
  },
  {
   "cell_type": "code",
   "execution_count": 45,
   "metadata": {
    "collapsed": true,
    "scrolled": false
   },
   "outputs": [],
   "source": [
    "user = g.get_user(\"staeiou\")\n"
   ]
  },
  {
   "cell_type": "code",
   "execution_count": 47,
   "metadata": {
    "collapsed": false,
    "scrolled": true
   },
   "outputs": [
    {
     "data": {
      "text/plain": [
       "['CHECK_AFTER_INIT_FLAG',\n",
       " 'avatar_url',\n",
       " 'bio',\n",
       " 'blog',\n",
       " 'collaborators',\n",
       " 'company',\n",
       " 'contributions',\n",
       " 'created_at',\n",
       " 'disk_usage',\n",
       " 'email',\n",
       " 'etag',\n",
       " 'events_url',\n",
       " 'followers',\n",
       " 'followers_url',\n",
       " 'following',\n",
       " 'following_url',\n",
       " 'get_events',\n",
       " 'get_followers',\n",
       " 'get_following',\n",
       " 'get_gists',\n",
       " 'get_keys',\n",
       " 'get_orgs',\n",
       " 'get_public_events',\n",
       " 'get_public_received_events',\n",
       " 'get_received_events',\n",
       " 'get_repo',\n",
       " 'get_repos',\n",
       " 'get_starred',\n",
       " 'get_subscriptions',\n",
       " 'get_watched',\n",
       " 'gists_url',\n",
       " 'gravatar_id',\n",
       " 'has_in_following',\n",
       " 'hireable',\n",
       " 'html_url',\n",
       " 'id',\n",
       " 'last_modified',\n",
       " 'location',\n",
       " 'login',\n",
       " 'name',\n",
       " 'organizations_url',\n",
       " 'owned_private_repos',\n",
       " 'plan',\n",
       " 'private_gists',\n",
       " 'public_gists',\n",
       " 'public_repos',\n",
       " 'raw_data',\n",
       " 'raw_headers',\n",
       " 'received_events_url',\n",
       " 'repos_url',\n",
       " 'setCheckAfterInitFlag',\n",
       " 'starred_url',\n",
       " 'subscriptions_url',\n",
       " 'total_private_repos',\n",
       " 'type',\n",
       " 'update',\n",
       " 'updated_at',\n",
       " 'url']"
      ]
     },
     "execution_count": 47,
     "metadata": {},
     "output_type": "execute_result"
    }
   ],
   "source": [
    "vdir(user)"
   ]
  },
  {
   "cell_type": "code",
   "execution_count": 46,
   "metadata": {
    "collapsed": false,
    "scrolled": false
   },
   "outputs": [
    {
     "name": "stdout",
     "output_type": "stream",
     "text": [
      "Stuart Geiger\n",
      "2013-06-14 00:25:39\n",
      "Berkeley, CA\n"
     ]
    }
   ],
   "source": [
    "print(user.name)\n",
    "print(user.created_at)\n",
    "print(user.location)"
   ]
  },
  {
   "cell_type": "markdown",
   "metadata": {},
   "source": [
    "## Repositories\n",
    "Repositories work similarly to users. You have to call the name of the user or organization that owns the repository, then a slash, then the name of the repository. Some of these objects are easily printed (like name, description), while others are fully fledged Github objects in themselves, with many methods and properties (like organization or commit)"
   ]
  },
  {
   "cell_type": "code",
   "execution_count": 7,
   "metadata": {
    "collapsed": true,
    "scrolled": false
   },
   "outputs": [],
   "source": [
    "repo = g.get_repo(\"jupyter/notebook\")"
   ]
  },
  {
   "cell_type": "code",
   "execution_count": 48,
   "metadata": {
    "collapsed": false,
    "scrolled": true
   },
   "outputs": [
    {
     "data": {
      "text/plain": [
       "['CHECK_AFTER_INIT_FLAG',\n",
       " 'add_to_collaborators',\n",
       " 'archive_url',\n",
       " 'assignees_url',\n",
       " 'blobs_url',\n",
       " 'branches_url',\n",
       " 'clone_url',\n",
       " 'collaborators_url',\n",
       " 'comments_url',\n",
       " 'commits_url',\n",
       " 'compare',\n",
       " 'compare_url',\n",
       " 'contents_url',\n",
       " 'contributors_url',\n",
       " 'create_git_blob',\n",
       " 'create_git_commit',\n",
       " 'create_git_ref',\n",
       " 'create_git_release',\n",
       " 'create_git_tag',\n",
       " 'create_git_tag_and_release',\n",
       " 'create_git_tree',\n",
       " 'create_hook',\n",
       " 'create_issue',\n",
       " 'create_key',\n",
       " 'create_label',\n",
       " 'create_milestone',\n",
       " 'create_pull',\n",
       " 'created_at',\n",
       " 'default_branch',\n",
       " 'delete',\n",
       " 'description',\n",
       " 'downloads_url',\n",
       " 'edit',\n",
       " 'etag',\n",
       " 'events_url',\n",
       " 'fork',\n",
       " 'forks',\n",
       " 'forks_count',\n",
       " 'forks_url',\n",
       " 'full_name',\n",
       " 'get_archive_link',\n",
       " 'get_assignees',\n",
       " 'get_branch',\n",
       " 'get_branches',\n",
       " 'get_collaborators',\n",
       " 'get_comment',\n",
       " 'get_comments',\n",
       " 'get_commit',\n",
       " 'get_commits',\n",
       " 'get_contents',\n",
       " 'get_contributors',\n",
       " 'get_dir_contents',\n",
       " 'get_download',\n",
       " 'get_downloads',\n",
       " 'get_events',\n",
       " 'get_file_contents',\n",
       " 'get_forks',\n",
       " 'get_git_blob',\n",
       " 'get_git_commit',\n",
       " 'get_git_ref',\n",
       " 'get_git_refs',\n",
       " 'get_git_tag',\n",
       " 'get_git_tree',\n",
       " 'get_hook',\n",
       " 'get_hooks',\n",
       " 'get_issue',\n",
       " 'get_issues',\n",
       " 'get_issues_comments',\n",
       " 'get_issues_event',\n",
       " 'get_issues_events',\n",
       " 'get_key',\n",
       " 'get_keys',\n",
       " 'get_label',\n",
       " 'get_labels',\n",
       " 'get_languages',\n",
       " 'get_milestone',\n",
       " 'get_milestones',\n",
       " 'get_network_events',\n",
       " 'get_pull',\n",
       " 'get_pulls',\n",
       " 'get_pulls_comments',\n",
       " 'get_pulls_review_comments',\n",
       " 'get_readme',\n",
       " 'get_release',\n",
       " 'get_releases',\n",
       " 'get_stargazers',\n",
       " 'get_stargazers_with_dates',\n",
       " 'get_stats_code_frequency',\n",
       " 'get_stats_commit_activity',\n",
       " 'get_stats_contributors',\n",
       " 'get_stats_participation',\n",
       " 'get_stats_punch_card',\n",
       " 'get_subscribers',\n",
       " 'get_tags',\n",
       " 'get_teams',\n",
       " 'get_watchers',\n",
       " 'git_commits_url',\n",
       " 'git_refs_url',\n",
       " 'git_tags_url',\n",
       " 'git_url',\n",
       " 'has_downloads',\n",
       " 'has_in_assignees',\n",
       " 'has_in_collaborators',\n",
       " 'has_issues',\n",
       " 'has_wiki',\n",
       " 'homepage',\n",
       " 'hooks_url',\n",
       " 'html_url',\n",
       " 'id',\n",
       " 'issue_comment_url',\n",
       " 'issue_events_url',\n",
       " 'issues_url',\n",
       " 'keys_url',\n",
       " 'labels_url',\n",
       " 'language',\n",
       " 'languages_url',\n",
       " 'last_modified',\n",
       " 'legacy_search_issues',\n",
       " 'master_branch',\n",
       " 'merge',\n",
       " 'merges_url',\n",
       " 'milestones_url',\n",
       " 'mirror_url',\n",
       " 'name',\n",
       " 'network_count',\n",
       " 'notifications_url',\n",
       " 'open_issues',\n",
       " 'open_issues_count',\n",
       " 'organization',\n",
       " 'owner',\n",
       " 'parent',\n",
       " 'permissions',\n",
       " 'private',\n",
       " 'pulls_url',\n",
       " 'pushed_at',\n",
       " 'raw_data',\n",
       " 'raw_headers',\n",
       " 'remove_from_collaborators',\n",
       " 'setCheckAfterInitFlag',\n",
       " 'size',\n",
       " 'source',\n",
       " 'ssh_url',\n",
       " 'stargazers_count',\n",
       " 'stargazers_url',\n",
       " 'statuses_url',\n",
       " 'subscribe_to_hub',\n",
       " 'subscribers_url',\n",
       " 'subscription_url',\n",
       " 'svn_url',\n",
       " 'tags_url',\n",
       " 'teams_url',\n",
       " 'trees_url',\n",
       " 'unsubscribe_from_hub',\n",
       " 'update',\n",
       " 'updated_at',\n",
       " 'url',\n",
       " 'watchers',\n",
       " 'watchers_count']"
      ]
     },
     "execution_count": 48,
     "metadata": {},
     "output_type": "execute_result"
    }
   ],
   "source": [
    "vdir(repo)"
   ]
  },
  {
   "cell_type": "code",
   "execution_count": null,
   "metadata": {
    "collapsed": false,
    "scrolled": false
   },
   "outputs": [],
   "source": [
    "\n"
   ]
  },
  {
   "cell_type": "markdown",
   "metadata": {},
   "source": [
    "There are lots of properties or methods of objects that return other objects (like repos, users, organizations), and you can quickly access properties or methods of these objects with a dot. \n",
    "\n",
    "There there are also methods that return lists of objects, like repo.get_commits() or repo.get_contributors(). You need to iterate through these lists, or access them with indexes. What you usually get from these lists are also objects that have their own properties and methods."
   ]
  },
  {
   "cell_type": "code",
   "execution_count": 52,
   "metadata": {
    "collapsed": false,
    "scrolled": false
   },
   "outputs": [
    {
     "name": "stdout",
     "output_type": "stream",
     "text": [
      "notebook\n",
      "Jupyter Interactive Notebook\n",
      "<github.Organization.Organization object at 0x7f2c26dd0d30>\n",
      "Project Jupyter\n",
      "The Future\n",
      "JavaScript\n",
      "<github.PaginatedList.PaginatedList object at 0x7f2c450dd7b8>\n",
      "<github.PaginatedList.PaginatedList object at 0x7f2c450dd710>\n"
     ]
    }
   ],
   "source": [
    "print(repo.name)\n",
    "print(repo.description)\n",
    "print(repo.organization)\n",
    "print(repo.organization.name)\n",
    "print(repo.organization.location)\n",
    "print(repo.language)\n",
    "print(repo.get_contributors())\n",
    "print(repo.get_commits())"
   ]
  },
  {
   "cell_type": "markdown",
   "metadata": {
    "collapsed": true
   },
   "source": [
    "## Commits "
   ]
  },
  {
   "cell_type": "code",
   "execution_count": 53,
   "metadata": {
    "collapsed": false,
    "scrolled": false
   },
   "outputs": [
    {
     "name": "stdout",
     "output_type": "stream",
     "text": [
      "Author name:  Matthias Bussonnier\n",
      "Committer name:  GitHub Web Flow\n",
      "Lines added:  5\n",
      "Lines deleted:  0\n",
      "Commit message:\n",
      "---------\n",
      " Merge pull request #1614 from staeiou/master\n",
      "\n",
      "Add info on how to launch master branch install\n"
     ]
    }
   ],
   "source": [
    "commits = repo.get_commits()\n",
    "commit = commits[0]\n",
    "print(\"Author name: \", commit.author.name)\n",
    "print(\"Committer name: \", commit.committer.name)\n",
    "print(\"Lines added: \", commit.stats.additions)\n",
    "print(\"Lines deleted: \", commit.stats.deletions)\n",
    "print(\"Commit message:\\n---------\\n\", commit.commit.message)"
   ]
  },
  {
   "cell_type": "markdown",
   "metadata": {},
   "source": [
    "### Working with timedeltas\n",
    "\n",
    "This is a function that iterates through all the commits in a repository since one month ago, and then counts the number of commits and the net lines added/removed."
   ]
  },
  {
   "cell_type": "code",
   "execution_count": 54,
   "metadata": {
    "collapsed": false,
    "scrolled": false
   },
   "outputs": [],
   "source": [
    "import datetime"
   ]
  },
  {
   "cell_type": "code",
   "execution_count": 55,
   "metadata": {
    "collapsed": false,
    "scrolled": false
   },
   "outputs": [
    {
     "name": "stdout",
     "output_type": "stream",
     "text": [
      "58 28\n"
     ]
    }
   ],
   "source": [
    "one_month_ago = datetime.datetime.now() - datetime.timedelta(days=30)\n",
    "net_lines_added = 0\n",
    "num_commits = 0\n",
    "\n",
    "for commit in repo.get_commits(since = one_month_ago):\n",
    "    net_lines_added += commit.stats.additions\n",
    "    net_lines_added -= commit.stats.deletions\n",
    "    num_commits += 1\n",
    "    \n",
    "print(net_lines_added, num_commits)"
   ]
  },
  {
   "cell_type": "markdown",
   "metadata": {
    "collapsed": false
   },
   "source": [
    "## Issues\n",
    "Issues are objects similar to commits. "
   ]
  },
  {
   "cell_type": "code",
   "execution_count": 56,
   "metadata": {
    "collapsed": false,
    "scrolled": true
   },
   "outputs": [
    {
     "data": {
      "text/plain": [
       "['CHECK_AFTER_INIT_FLAG',\n",
       " '_CompletableGithubObject__complete',\n",
       " '_CompletableGithubObject__completed',\n",
       " '_GithubObject__makeSimpleAttribute',\n",
       " '_GithubObject__makeSimpleListAttribute',\n",
       " '_GithubObject__makeTransformedAttribute',\n",
       " '__class__',\n",
       " '__delattr__',\n",
       " '__dict__',\n",
       " '__dir__',\n",
       " '__doc__',\n",
       " '__eq__',\n",
       " '__format__',\n",
       " '__ge__',\n",
       " '__getattribute__',\n",
       " '__gt__',\n",
       " '__hash__',\n",
       " '__init__',\n",
       " '__le__',\n",
       " '__lt__',\n",
       " '__module__',\n",
       " '__ne__',\n",
       " '__new__',\n",
       " '__reduce__',\n",
       " '__reduce_ex__',\n",
       " '__repr__',\n",
       " '__setattr__',\n",
       " '__sizeof__',\n",
       " '__str__',\n",
       " '__subclasshook__',\n",
       " '__weakref__',\n",
       " '_assignee',\n",
       " '_body',\n",
       " '_closed_at',\n",
       " '_closed_by',\n",
       " '_comments',\n",
       " '_comments_url',\n",
       " '_completeIfNeeded',\n",
       " '_completeIfNotSet',\n",
       " '_created_at',\n",
       " '_events_url',\n",
       " '_headers',\n",
       " '_html_url',\n",
       " '_id',\n",
       " '_identity',\n",
       " '_initAttributes',\n",
       " '_labels',\n",
       " '_labels_url',\n",
       " '_makeBoolAttribute',\n",
       " '_makeClassAttribute',\n",
       " '_makeDatetimeAttribute',\n",
       " '_makeDictAttribute',\n",
       " '_makeDictOfStringsToClassesAttribute',\n",
       " '_makeIntAttribute',\n",
       " '_makeListOfClassesAttribute',\n",
       " '_makeListOfIntsAttribute',\n",
       " '_makeListOfListOfStringsAttribute',\n",
       " '_makeListOfStringsAttribute',\n",
       " '_makeStringAttribute',\n",
       " '_makeTimestampAttribute',\n",
       " '_milestone',\n",
       " '_number',\n",
       " '_parentUrl',\n",
       " '_pull_request',\n",
       " '_rawData',\n",
       " '_repository',\n",
       " '_requester',\n",
       " '_state',\n",
       " '_storeAndUseAttributes',\n",
       " '_title',\n",
       " '_updated_at',\n",
       " '_url',\n",
       " '_useAttributes',\n",
       " '_user',\n",
       " 'add_to_labels',\n",
       " 'assignee',\n",
       " 'body',\n",
       " 'closed_at',\n",
       " 'closed_by',\n",
       " 'comments',\n",
       " 'comments_url',\n",
       " 'create_comment',\n",
       " 'created_at',\n",
       " 'delete_labels',\n",
       " 'edit',\n",
       " 'etag',\n",
       " 'events_url',\n",
       " 'get_comment',\n",
       " 'get_comments',\n",
       " 'get_events',\n",
       " 'get_labels',\n",
       " 'html_url',\n",
       " 'id',\n",
       " 'labels',\n",
       " 'labels_url',\n",
       " 'last_modified',\n",
       " 'milestone',\n",
       " 'number',\n",
       " 'pull_request',\n",
       " 'raw_data',\n",
       " 'raw_headers',\n",
       " 'remove_from_labels',\n",
       " 'repository',\n",
       " 'setCheckAfterInitFlag',\n",
       " 'set_labels',\n",
       " 'state',\n",
       " 'title',\n",
       " 'update',\n",
       " 'updated_at',\n",
       " 'url',\n",
       " 'user']"
      ]
     },
     "execution_count": 56,
     "metadata": {},
     "output_type": "execute_result"
    }
   ],
   "source": [
    "dir(issue)"
   ]
  },
  {
   "cell_type": "code",
   "execution_count": 57,
   "metadata": {
    "collapsed": false,
    "scrolled": false
   },
   "outputs": [
    {
     "name": "stdout",
     "output_type": "stream",
     "text": [
      "Getting rid of IPython global. 391\n",
      "Semantic highlighting.  407\n",
      "Is it possible to add notebook metadata, like a description which shows up in the notebook file view? 407\n"
     ]
    }
   ],
   "source": [
    "issues = repo.get_issues()\n",
    "for issue in issues:\n",
    "    last_updated_delta = datetime.datetime.now() - issue.updated_at\n",
    "    if last_updated_delta > datetime.timedelta(days=365):\n",
    "        print(issue.title, last_updated_delta.days)\n",
    "    "
   ]
  },
  {
   "cell_type": "markdown",
   "metadata": {
    "collapsed": false
   },
   "source": [
    "## Organizations"
   ]
  },
  {
   "cell_type": "markdown",
   "metadata": {},
   "source": [
    "Organizations are objects too, which have similar properties:"
   ]
  },
  {
   "cell_type": "code",
   "execution_count": 58,
   "metadata": {
    "collapsed": true,
    "scrolled": false
   },
   "outputs": [],
   "source": [
    "org = g.get_organization(\"jupyter\")"
   ]
  },
  {
   "cell_type": "code",
   "execution_count": 59,
   "metadata": {
    "collapsed": false,
    "scrolled": false
   },
   "outputs": [
    {
     "name": "stdout",
     "output_type": "stream",
     "text": [
      "Project Jupyter\n",
      "2014-04-23 21:36:43\n",
      "https://github.com/jupyter\n"
     ]
    }
   ],
   "source": [
    "print(org.name)\n",
    "print(org.created_at)\n",
    "print(org.html_url)"
   ]
  },
  {
   "cell_type": "markdown",
   "metadata": {},
   "source": [
    "We can go through all the repositories in the organization with the get_repos() function. It returns a list of repository objects, which have their own properties and methods. \n",
    "\n",
    "In this example, we are iterating through all the repositories in an organization, then for an empty dictionary, setting the key to the repository's name and the value to the number of times the repository has been forked."
   ]
  },
  {
   "cell_type": "code",
   "execution_count": 75,
   "metadata": {
    "collapsed": false,
    "scrolled": true
   },
   "outputs": [
    {
     "data": {
      "text/plain": [
       "{'atom-notebook': 11,\n",
       " 'cdn.jupyter.org': 2,\n",
       " 'colaboratory': 43,\n",
       " 'design': 13,\n",
       " 'docker-demo-images': 59,\n",
       " 'docker-stacks': 235,\n",
       " 'enhancement-proposals': 18,\n",
       " 'experiments': 0,\n",
       " 'governance': 13,\n",
       " 'help': 10,\n",
       " 'jupyter': 90,\n",
       " 'jupyter-blog-theme': 3,\n",
       " 'jupyter-drive': 27,\n",
       " 'jupyter-js-services': 26,\n",
       " 'jupyter-js-utils': 3,\n",
       " 'jupyter-sphinx-theme': 3,\n",
       " 'jupyter-sprints': 1,\n",
       " 'jupyter.github.io': 27,\n",
       " 'jupyter_client': 67,\n",
       " 'jupyter_console': 38,\n",
       " 'jupyter_core': 48,\n",
       " 'jupyter_kernel_test': 8,\n",
       " 'jupyter_logger': 2,\n",
       " 'jupyterhub-2016-workshop': 8,\n",
       " 'jupyterlab': 85,\n",
       " 'kernel_gateway': 13,\n",
       " 'kernel_gateway_demos': 12,\n",
       " 'lbnl-jupyterday': 1,\n",
       " 'mozfest15-training': 3,\n",
       " 'nature-demo': 5,\n",
       " 'nbcache': 1,\n",
       " 'nbconvert': 88,\n",
       " 'nbconvert-examples': 30,\n",
       " 'nbdime': 12,\n",
       " 'nbformat': 29,\n",
       " 'nbgrader': 50,\n",
       " 'nbviewer': 213,\n",
       " 'newsletter': 5,\n",
       " 'ngcm-tutorial': 12,\n",
       " 'notebook': 406,\n",
       " 'qtconsole': 45,\n",
       " 'roadmap': 12,\n",
       " 'scipy-2015-advanced-topics': 1,\n",
       " 'scipy-advanced-tutorial': 19,\n",
       " 'scipy-sprint': 0,\n",
       " 'strata-sv-2015-tutorial': 23,\n",
       " 'surveys': 3,\n",
       " 'testpath': 1,\n",
       " 'tmpnb': 82,\n",
       " 'tmpnb-deploy': 5,\n",
       " 'tmpnb-redirector': 6,\n",
       " 'try.jupyter.org': 2,\n",
       " 'widget-cookiecutter': 4}"
      ]
     },
     "execution_count": 75,
     "metadata": {},
     "output_type": "execute_result"
    }
   ],
   "source": [
    "repos = {}\n",
    "\n",
    "for repo in org.get_repos():\n",
    "    repos[repo.name] = repo.forks_count\n",
    "repos"
   ]
  },
  {
   "cell_type": "markdown",
   "metadata": {},
   "source": [
    "## Getting location data for an organization's contributors\n",
    "### Mapping and geolocation"
   ]
  },
  {
   "cell_type": "markdown",
   "metadata": {
    "collapsed": false,
    "scrolled": true
   },
   "source": [
    "Before we get into how to query GitHub, we know we will have to get location coordinates for each contributor, and then plot it on a map. So we are going to do that first.\n",
    "\n",
    "For geolocation, we are using geopy's geolocator object, which is based on Open Street Map's Nominatim API. Nominatim takes in any arbitrary location data and then returns a location object, which includes the best latitude and longitude coordinates it can find. \n",
    "\n",
    "This does mean that we will have more error than if we did this manually, and there might be vastly different levels of accuracy. For example, if someone just has \"UK\" as their location, it will show up in the geographic center of the UK, which is somewhere on the edge of the Lake District. \"USA\" resolves to somewhere in Kansas. However, you can get very specific location data if you put in more detail."
   ]
  },
  {
   "cell_type": "code",
   "execution_count": 24,
   "metadata": {
    "collapsed": false,
    "scrolled": false
   },
   "outputs": [
    {
     "name": "stdout",
     "output_type": "stream",
     "text": [
      "-3.2765752 54.7023545\n",
      "-100.4458824 39.7837304\n",
      "-122.259492086406 37.87219435\n"
     ]
    }
   ],
   "source": [
    "from geopy.geocoders import Nominatim\n",
    "\n",
    "geolocator = Nominatim()\n",
    "uk_loc = geolocator.geocode(\"UK\")\n",
    "print(uk_loc.longitude,uk_loc.latitude)\n",
    "\n",
    "us_loc = geolocator.geocode(\"USA\")\n",
    "print(us_loc.longitude,us_loc.latitude)\n",
    "\n",
    "bids_loc = geolocator.geocode(\"Doe Library, Berkeley CA, 94720 USA\")\n",
    "print(bids_loc.longitude,bids_loc.latitude)"
   ]
  },
  {
   "cell_type": "markdown",
   "metadata": {},
   "source": [
    "We can plot points on a map using ipyleaflets and ipywidgets. We first set up a map object, which is created with various parameters. Then we create Marker objects, which are then appended to the map. We then display the map inline in this notebook."
   ]
  },
  {
   "cell_type": "code",
   "execution_count": 25,
   "metadata": {
    "collapsed": false,
    "scrolled": false
   },
   "outputs": [],
   "source": [
    "import ipywidgets\n",
    "\n",
    "from ipyleaflet import (\n",
    "    Map,\n",
    "    Marker,\n",
    "    TileLayer, ImageOverlay,\n",
    "    Polyline, Polygon, Rectangle, Circle, CircleMarker,\n",
    "    GeoJSON,\n",
    "    DrawControl\n",
    ")\n",
    "\n",
    "center = [30.0, 5.0]\n",
    "zoom = 2\n",
    "m = Map(default_tiles=TileLayer(opacity=1.0), center=center, zoom=zoom, layout=ipywidgets.Layout(height=\"600px\"))\n",
    "\n",
    "uk_mark = Marker(location=[uk_loc.latitude,uk_loc.longitude])\n",
    "uk_mark.visible\n",
    "m += uk_mark\n",
    "\n",
    "us_mark = Marker(location=[us_loc.latitude,us_loc.longitude])\n",
    "us_mark.visible\n",
    "m += us_mark\n",
    "\n",
    "bids_mark = Marker(location=[bids_loc.latitude,bids_loc.longitude])\n",
    "bids_mark.visible\n",
    "m += bids_mark"
   ]
  },
  {
   "cell_type": "code",
   "execution_count": null,
   "metadata": {
    "collapsed": true,
    "scrolled": false
   },
   "outputs": [],
   "source": []
  },
  {
   "cell_type": "markdown",
   "metadata": {},
   "source": [
    "## Rate limiting"
   ]
  },
  {
   "cell_type": "markdown",
   "metadata": {
    "collapsed": false
   },
   "source": [
    "Now that we have made a few requests, we can see what our rate limit is. If you are logged in, you get 5,000 requests per hour. If you are not, you only get 60 per hour. You can use methods in the GitHub object to see your remaining queries, hourly limit, and reset time. We have used less than 100 of our 5,000 requests with these calls."
   ]
  },
  {
   "cell_type": "code",
   "execution_count": 20,
   "metadata": {
    "collapsed": false,
    "scrolled": true
   },
   "outputs": [
    {
     "data": {
      "text/plain": [
       "(4908, 5000)"
      ]
     },
     "execution_count": 20,
     "metadata": {},
     "output_type": "execute_result"
    }
   ],
   "source": [
    "g.rate_limiting"
   ]
  },
  {
   "cell_type": "code",
   "execution_count": 21,
   "metadata": {
    "collapsed": false,
    "scrolled": true
   },
   "outputs": [
    {
     "data": {
      "text/plain": [
       "1469149774"
      ]
     },
     "execution_count": 21,
     "metadata": {},
     "output_type": "execute_result"
    }
   ],
   "source": [
    "reset_time = g.rate_limiting_resettime\n",
    "reset_time"
   ]
  },
  {
   "cell_type": "markdown",
   "metadata": {},
   "source": [
    "This value is in seconds since the UTC epoch (Jan 1st, 1970), so we have to convert it. Here is a quick function that takes a GitHub object, queries the API to find our next reset time, and converts it to minutes."
   ]
  },
  {
   "cell_type": "code",
   "execution_count": 22,
   "metadata": {
    "collapsed": false,
    "scrolled": false
   },
   "outputs": [],
   "source": [
    "import datetime\n",
    "def minutes_to_reset(github):\n",
    "    reset_time = github.rate_limiting_resettime\n",
    "    timedelta_to_reset = datetime.datetime.fromtimestamp(reset_time) - datetime.datetime.now()\n",
    "    return timedelta_to_reset.seconds / 60\n",
    "    "
   ]
  },
  {
   "cell_type": "code",
   "execution_count": 23,
   "metadata": {
    "collapsed": false,
    "scrolled": true
   },
   "outputs": [
    {
     "data": {
      "text/plain": [
       "58.11666666666667"
      ]
     },
     "execution_count": 23,
     "metadata": {},
     "output_type": "execute_result"
    }
   ],
   "source": [
    "minutes_to_reset(g)"
   ]
  },
  {
   "cell_type": "markdown",
   "metadata": {},
   "source": [
    "### Querying GitHub for location data\n",
    "\n",
    "For our mapping script, we want to get profiles for everyone who has made a commit to any of the repositories in the Jupyter organization, find their location (if any), then add it to a list. The API has a get_contributors function for repo objects, which returns a list of contributors ordered by number of commits, but not one that works across all repos in an org. So we have to iterate through all the repos in the org, and run the get_contributors method for We also want to make sure we don't add any duplicates to our list to over-represent any areas, so we keep track of people in a dictionary."
   ]
  },
  {
   "cell_type": "markdown",
   "metadata": {},
   "source": [
    "I've written a few functions to make it easy to retreive and map an organization's contributors."
   ]
  },
  {
   "cell_type": "code",
   "execution_count": 26,
   "metadata": {
    "collapsed": false,
    "scrolled": false
   },
   "outputs": [],
   "source": [
    "def get_org_contributor_locations(github, org_name):\n",
    "    \"\"\"\n",
    "    For a GitHub organization, get location for contributors to any repo in the org.\n",
    "    \n",
    "    Returns a dictionary of {username URLS : geopy Locations}, then a dictionary of various metadata.\n",
    "    \n",
    "    \"\"\"\n",
    "    \n",
    "    # Set up empty dictionaries and metadata variables\n",
    "    contributor_locs = {}\n",
    "    locations = []\n",
    "    none_count = 0\n",
    "    error_count = 0\n",
    "    user_loc_count = 0\n",
    "    duplicate_count = 0\n",
    "    geolocator = Nominatim()\n",
    "\n",
    "    \n",
    "    # For each repo in the organization\n",
    "    for repo in github.get_organization(org_name).get_repos():\n",
    "        #print(repo.name)\n",
    "        \n",
    "        # For each contributor in the repo        \n",
    "        for contributor in repo.get_contributors():\n",
    "            print('.', end=\"\")\n",
    "            # If the contributor_locs dictionary doesn't have an entry for this user\n",
    "            if contributor_locs.get(contributor.url) is None:\n",
    "                \n",
    "                # Try-Except block to handle API errors\n",
    "                try:\n",
    "                    # If the contributor has no location in profile\n",
    "                    if(contributor.location is None):\n",
    "                        #print(\"No Location\")\n",
    "                        none_count += 1\n",
    "                    else:\n",
    "                        # Get coordinates for location string from Nominatim API\n",
    "                        location=geolocator.geocode(contributor.location)\n",
    "\n",
    "                        #print(contributor.location, \" | \", location)\n",
    "                        \n",
    "                        # Add a new entry to the dictionary. Value is user's URL, key is geocoded location object\n",
    "                        contributor_locs[contributor.url] = location\n",
    "                        user_loc_count += 1\n",
    "                except Exception:\n",
    "                    print('!', end=\"\")\n",
    "                    error_count += 1\n",
    "            else:\n",
    "                duplicate_count += 1\n",
    "                \n",
    "    return contributor_locs,{'no_loc_count':none_count, 'user_loc_count':user_loc_count, \n",
    "                             'duplicate_count':duplicate_count, 'error_count':error_count}\n"
   ]
  },
  {
   "cell_type": "markdown",
   "metadata": {},
   "source": [
    "With this, we can easily query an organization. The U.S. Digital Service (org name: usds) is a small organization that works well for testing these kinds of queries. It takes about a second per contributor to get this data, so we want to test on small orgs first. To show the status, it prints a period for each successful query and an exclaimation point for each error.\n",
    "\n",
    "The get_org_contributor_locations function takes a Github object and an organization name, and returns two dictionaries: one of user and location data, and one of metadata about the geolocation query (including the number of users without a location in their profile)."
   ]
  },
  {
   "cell_type": "code",
   "execution_count": 27,
   "metadata": {
    "collapsed": false,
    "scrolled": false
   },
   "outputs": [
    {
     "name": "stdout",
     "output_type": "stream",
     "text": [
      "..............................."
     ]
    }
   ],
   "source": [
    "usds_locs, usds_metadata = get_org_contributor_locations(g,'usds')"
   ]
  },
  {
   "cell_type": "code",
   "execution_count": 28,
   "metadata": {
    "collapsed": false,
    "scrolled": false
   },
   "outputs": [
    {
     "data": {
      "text/plain": [
       "{'duplicate_count': 1,\n",
       " 'error_count': 0,\n",
       " 'no_loc_count': 8,\n",
       " 'user_loc_count': 22}"
      ]
     },
     "execution_count": 28,
     "metadata": {},
     "output_type": "execute_result"
    }
   ],
   "source": [
    "usds_metadata"
   ]
  },
  {
   "cell_type": "markdown",
   "metadata": {},
   "source": [
    "We are going to explore this dataset, but not plot names or usernames. I'm a bit hesitant to publish location data with unique identifiers, even if people put that information in their profiles. This code iterates through the dictionary and puts location data into a list."
   ]
  },
  {
   "cell_type": "code",
   "execution_count": 29,
   "metadata": {
    "collapsed": false,
    "scrolled": true
   },
   "outputs": [
    {
     "data": {
      "text/plain": [
       "[Location(D,C, Buccaneer Ridge Drive, Johnson City, Washington County, Tennessee, 37614, United States of America, (36.29885175, -82.3591932141095, 0.0)),\n",
       " Location(Washington, District of Columbia, United States of America, (38.8949549, -77.0366455, 0.0)),\n",
       " Location(東京都, 日本, (34.2255804, 139.294774527387, 0.0)),\n",
       " Location(Seattle, King County, Washington, United States of America, (47.6038321, -122.3300623, 0.0)),\n",
       " Location(Washington, District of Columbia, United States of America, (38.8949549, -77.0366455, 0.0)),\n",
       " Location(Washington, District of Columbia, United States of America, (38.8949549, -77.0366455, 0.0)),\n",
       " Location(Washington, District of Columbia, United States of America, (38.8949549, -77.0366455, 0.0)),\n",
       " Location(Dayton, Montgomery County, Ohio, United States of America, (39.7589478, -84.1916068, 0.0)),\n",
       " Location(United States of America, (39.7837304, -100.4458824, 0.0)),\n",
       " Location(D,C, Buccaneer Ridge Drive, Johnson City, Washington County, Tennessee, 37614, United States of America, (36.29885175, -82.3591932141095, 0.0)),\n",
       " Location(Alexandria, Alexandria City, Virginia, United States of America, (38.8051095, -77.0470228, 0.0)),\n",
       " Location(Washington, District of Columbia, United States of America, (38.8949549, -77.0366455, 0.0)),\n",
       " Location(Brooklyn Basin, Oakland, Alameda County, California, United States of America, (37.7857615, -122.24858, 0.0)),\n",
       " Location(SF, California, United States of America, (37.7792808, -122.4192362, 0.0)),\n",
       " Location(Oakland, Alameda County, California, United States of America, (37.8044557, -122.2713562, 0.0)),\n",
       " Location(Milwaukee, Milwaukee County, Wisconsin, United States of America, (43.0349931, -87.9224969, 0.0)),\n",
       " Location(SF, California, United States of America, (37.7792808, -122.4192362, 0.0)),\n",
       " Location(SF, California, United States of America, (37.7792808, -122.4192362, 0.0)),\n",
       " Location(Port Angeles, Clallam County, Washington, United States of America, (48.118146, -123.4307412, 0.0)),\n",
       " Location(Falls Church, Falls Church City, Virginia, United States of America, (38.882334, -77.1710913, 0.0)),\n",
       " Location(Portland, Multnomah County, Oregon, United States of America, (45.5202471, -122.6741948, 0.0)),\n",
       " Location(Washington, District of Columbia, United States of America, (38.8949549, -77.0366455, 0.0))]"
      ]
     },
     "execution_count": 29,
     "metadata": {},
     "output_type": "execute_result"
    }
   ],
   "source": [
    "usds_locs_nousernames = []\n",
    "for contributor, location in usds_locs.items():\n",
    "    usds_locs_nousernames.append(location)\n",
    "usds_locs_nousernames"
   ]
  },
  {
   "cell_type": "markdown",
   "metadata": {},
   "source": [
    "Now we can map this data using another function I have written."
   ]
  },
  {
   "cell_type": "code",
   "execution_count": 81,
   "metadata": {
    "collapsed": true,
    "scrolled": false
   },
   "outputs": [],
   "source": [
    "def map_location_dict(map_obj,org_location_dict):\n",
    "    \"\"\"\n",
    "    Maps the locations in a dictionary of {ids : geoPy Locations}. \n",
    "    \n",
    "    Must be passed a map object, then the dictionary. Returns the map object.\n",
    "    \n",
    "    \"\"\"\n",
    "    for username, location in org_location_dict.items():\n",
    "        if(location is not None):\n",
    "            mark = Marker(location=[location.latitude,location.longitude])\n",
    "            mark.visible\n",
    "            map_obj += mark\n",
    "            \n",
    "\n",
    "    return map_obj"
   ]
  },
  {
   "cell_type": "code",
   "execution_count": null,
   "metadata": {
    "collapsed": false,
    "scrolled": false
   },
   "outputs": [],
   "source": []
  },
  {
   "cell_type": "code",
   "execution_count": 82,
   "metadata": {
    "collapsed": false,
    "scrolled": false
   },
   "outputs": [],
   "source": [
    "center = [30.0,5.0]\n",
    "zoom = 2\n",
    "usds_map = Map(default_tiles=TileLayer(opacity=1.0), center=center, zoom=zoom, layout=ipywidgets.Layout(height=\"600px\"))\n",
    "\n",
    "usds_map = map_location_dict(usds_map, usds_locs)"
   ]
  },
  {
   "cell_type": "markdown",
   "metadata": {},
   "source": [
    "Now show the map inline! With the leaflet widget, you can zoom in and out directly in the notebook. And we can also export it to an html widget by going to the Widgets menu in Jupyter notebooks, clicking \"Embed widgets,\" and copy/pasting this to an html file."
   ]
  },
  {
   "cell_type": "code",
   "execution_count": 84,
   "metadata": {
    "collapsed": false,
    "scrolled": false
   },
   "outputs": [
    {
     "name": "stderr",
     "output_type": "stream",
     "text": [
      "--- Logging error ---\n",
      "Traceback (most recent call last):\n",
      "  File \"/home/mam/anaconda3/lib/python3.5/logging/__init__.py\", line 984, in emit\n",
      "    self.flush()\n",
      "  File \"/home/mam/anaconda3/lib/python3.5/logging/__init__.py\", line 964, in flush\n",
      "    self.stream.flush()\n",
      "OSError: [Errno 5] Input/output error\n",
      "Call stack:\n",
      "  File \"/home/mam/anaconda3/lib/python3.5/runpy.py\", line 170, in _run_module_as_main\n",
      "    \"__main__\", mod_spec)\n",
      "  File \"/home/mam/anaconda3/lib/python3.5/runpy.py\", line 85, in _run_code\n",
      "    exec(code, run_globals)\n",
      "  File \"/home/mam/anaconda3/lib/python3.5/site-packages/ipykernel/__main__.py\", line 3, in <module>\n",
      "    app.launch_new_instance()\n",
      "  File \"/home/mam/anaconda3/lib/python3.5/site-packages/traitlets/config/application.py\", line 596, in launch_instance\n",
      "    app.start()\n",
      "  File \"/home/mam/anaconda3/lib/python3.5/site-packages/ipykernel/kernelapp.py\", line 442, in start\n",
      "    ioloop.IOLoop.instance().start()\n",
      "  File \"/home/mam/anaconda3/lib/python3.5/site-packages/zmq/eventloop/ioloop.py\", line 162, in start\n",
      "    super(ZMQIOLoop, self).start()\n",
      "  File \"/home/mam/anaconda3/lib/python3.5/site-packages/tornado/ioloop.py\", line 883, in start\n",
      "    handler_func(fd_obj, events)\n",
      "  File \"/home/mam/anaconda3/lib/python3.5/site-packages/tornado/stack_context.py\", line 275, in null_wrapper\n",
      "    return fn(*args, **kwargs)\n",
      "  File \"/home/mam/anaconda3/lib/python3.5/site-packages/zmq/eventloop/zmqstream.py\", line 440, in _handle_events\n",
      "    self._handle_recv()\n",
      "  File \"/home/mam/anaconda3/lib/python3.5/site-packages/zmq/eventloop/zmqstream.py\", line 472, in _handle_recv\n",
      "    self._run_callback(callback, msg)\n",
      "  File \"/home/mam/anaconda3/lib/python3.5/site-packages/zmq/eventloop/zmqstream.py\", line 414, in _run_callback\n",
      "    callback(*args, **kwargs)\n",
      "  File \"/home/mam/anaconda3/lib/python3.5/site-packages/tornado/stack_context.py\", line 275, in null_wrapper\n",
      "    return fn(*args, **kwargs)\n",
      "  File \"/home/mam/anaconda3/lib/python3.5/site-packages/ipykernel/kernelbase.py\", line 276, in dispatcher\n",
      "    return self.dispatch_shell(stream, msg)\n",
      "  File \"/home/mam/anaconda3/lib/python3.5/site-packages/ipykernel/kernelbase.py\", line 228, in dispatch_shell\n",
      "    handler(stream, idents, msg)\n",
      "  File \"/home/mam/anaconda3/lib/python3.5/site-packages/ipykernel/kernelbase.py\", line 391, in execute_request\n",
      "    user_expressions, allow_stdin)\n",
      "  File \"/home/mam/anaconda3/lib/python3.5/site-packages/ipykernel/ipkernel.py\", line 199, in do_execute\n",
      "    shell.run_cell(code, store_history=store_history, silent=silent)\n",
      "  File \"/home/mam/anaconda3/lib/python3.5/site-packages/IPython/core/interactiveshell.py\", line 2723, in run_cell\n",
      "    interactivity=interactivity, compiler=compiler, result=result)\n",
      "  File \"/home/mam/anaconda3/lib/python3.5/site-packages/IPython/core/interactiveshell.py\", line 2831, in run_ast_nodes\n",
      "    if self.run_code(code, result):\n",
      "  File \"/home/mam/anaconda3/lib/python3.5/site-packages/IPython/core/interactiveshell.py\", line 2885, in run_code\n",
      "    exec(code_obj, self.user_global_ns, self.user_ns)\n",
      "  File \"<ipython-input-84-ab33b07005c7>\", line 1, in <module>\n",
      "    usds_map\n",
      "  File \"/home/mam/anaconda3/lib/python3.5/site-packages/IPython/core/displayhook.py\", line 246, in __call__\n",
      "    format_dict, md_dict = self.compute_format_data(result)\n",
      "  File \"/home/mam/anaconda3/lib/python3.5/site-packages/IPython/core/displayhook.py\", line 152, in compute_format_data\n",
      "    return self.shell.display_formatter.format(result)\n",
      "  File \"/home/mam/anaconda3/lib/python3.5/site-packages/IPython/core/formatters.py\", line 165, in format\n",
      "    if self.ipython_display_formatter(obj):\n",
      "  File \"<decorator-gen-11>\", line 2, in __call__\n",
      "  File \"/home/mam/anaconda3/lib/python3.5/site-packages/IPython/core/formatters.py\", line 222, in catch_format_error\n",
      "    r = method(self, *args, **kwargs)\n",
      "  File \"/home/mam/anaconda3/lib/python3.5/site-packages/IPython/core/formatters.py\", line 909, in __call__\n",
      "    method()\n",
      "  File \"/home/mam/anaconda3/lib/python3.5/site-packages/ipywidgets/widgets/widget.py\", line 474, in _ipython_display_\n",
      "    loud_error('Widget Javascript not detected.  It may not be '\n",
      "  File \"/home/mam/anaconda3/lib/python3.5/site-packages/ipywidgets/widgets/widget.py\", line 464, in loud_error\n",
      "    self.log.warn(message)\n",
      "Message: 'Widget Javascript not detected.  It may not be installed properly. Did you enable the widgetsnbextension? If not, then run \"jupyter nbextension enable --py --sys-prefix widgetsnbextension\"'\n",
      "Arguments: ()\n",
      "Widget Javascript not detected.  It may not be installed properly. Did you enable the widgetsnbextension? If not, then run \"jupyter nbextension enable --py --sys-prefix widgetsnbextension\"\n"
     ]
    }
   ],
   "source": [
    "usds_map"
   ]
  },
  {
   "cell_type": "code",
   "execution_count": null,
   "metadata": {
    "collapsed": true,
    "scrolled": false
   },
   "outputs": [],
   "source": []
  }
 ],
 "metadata": {
  "kernelspec": {
   "display_name": "Python 3",
   "language": "python",
   "name": "python3"
  },
  "language_info": {
   "codemirror_mode": {
    "name": "ipython",
    "version": 3
   },
   "file_extension": ".py",
   "mimetype": "text/x-python",
   "name": "python",
   "nbconvert_exporter": "python",
   "pygments_lexer": "ipython3",
   "version": "3.5.1"
  },
  "widgets": {
   "state": {
    "7d2572b714aa47fa996a98ecb8d9950c": {
     "views": [
      {
       "cell_index": 61
      }
     ]
    }
   },
   "version": "1.2.0"
  }
 },
 "nbformat": 4,
 "nbformat_minor": 1
}
